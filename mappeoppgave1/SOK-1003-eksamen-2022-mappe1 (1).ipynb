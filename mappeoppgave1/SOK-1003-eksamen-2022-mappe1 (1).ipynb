{
 "cells": [
  {
   "cell_type": "code",
   "execution_count": 1,
   "id": "de401c5f-60cc-47d6-97d5-4b21f497eb58",
   "metadata": {},
   "outputs": [],
   "source": [
    "# Gruppe 18\n",
    "# Gustav Gabrielsen, Nesta Ndungu, Johannes Pedersen "
   ]
  },
  {
   "cell_type": "markdown",
   "id": "f7183bc1-2284-4311-9273-743fa73e63a7",
   "metadata": {},
   "source": [
    "# Mappeoppgave 1\n",
    "## <u>Beskrivelse\n",
    "Les oppgaveteksten nøye. Se hvordan man leverer oppgaven <th><a href='https://uit-sok-1003-h22.github.io/semesteroppgave.html'>her</a> </th> og  <th><a href='https://uit-sok-1003-h22.github.io/github.html'>her</a>. Husk at den skal leveres både som jupyter-fil og som PDF. Kommenter kodene du skriver i alle oppgaver og vær nøye på å definere aksene mm i figurer. I noen av oppgavetekstene står det hint, men det betyr ikke at de ikke kan løses på andre måter\n",
    "\n",
    "##### For å hente denne filen til Jupyter gjør du slik:\n",
    "\n",
    "<ol>\n",
    "<li>Åpne et \"terminalvindu\"\n",
    "<li>Gå til hjemmeområdet ditt\n",
    "    \n",
    "    \n",
    "    [user@jupty02 ~]$ cd\n",
    "<li>Lag en ny mappe på ditt hjemmeområde ved å skrive inn i terminalvinduet \n",
    "\n",
    "    [user@jupty02 ~]$ mkdir SOK-1003-eksamen-2022-mappe1 \n",
    "\n",
    "<li>Gå så inn i den mappen du har laget ved å skrive\n",
    "\n",
    "    [user@jupty02 ~]$ cd SOK-1003-eksamen-2022-mappe1 \n",
    "<li> Last ned kursmateriellet ved å kopiere inn følgende kommando i kommandovinduet:\n",
    "\n",
    "    [user@jupty02 sok-1003]$ git clone https://github.com/uit-sok-1003-h22/mappe/\n",
    "</ol> \n",
    "<br> Oppgi gruppenavn m/ medlemmer på epost o.k.aars@uit.no innen 7/10, så blir dere satt opp til tidspunkt for presentasjon 19/10. \n",
    "<br>Bruk så denne filen til å gjøre besvarelsen din. Ved behov; legg til flere celler ved å trykke \"b\"\n",
    "</br>\n",
    "<hr>"
   ]
  },
  {
   "cell_type": "markdown",
   "id": "6578a453-0dfe-4f86-b2c4-0bbd934987c3",
   "metadata": {},
   "source": [
    "## <u> Oppgavene\n",
    "\n",
    "### Oppgave 1 (5 poeng)\n",
    "a) Lag en kort fortelling i en python kode som inkluderer alle de fire typer variabler vi har lært om i kurset. Koden skal kunne kjøres med print(). Koden burde inneholde utregninger av elementer du har definert\n"
   ]
  },
  {
   "cell_type": "code",
   "execution_count": 2,
   "id": "92c6740e-90f9-4a78-a331-5496fdc06b0e",
   "metadata": {},
   "outputs": [
    {
     "name": "stdout",
     "output_type": "stream",
     "text": [
      "Per og Pål dro på en butikk, der møtte de en mystisk trollmann som solgte 4 tryllestaver. \n",
      "En tryllestav kostet 19.99 kroner. Per og Pål var usikre om dem hadde råd til alle tryllestavene. \n",
      "Derfor spurte de om trollmannen kunne telle hvor mange penger de hadde. Trollmannen telte myntene. \n",
      "Til slutt ropte trollmannen EUREKA!!!. Han fortalte at: The Prophecy is True. \n",
      "Per og Pål hadde akkurat 79.96 kroner i pengeboken. Dermed kjøpte de alle tryllestavene fra trollmannen.\n"
     ]
    }
   ],
   "source": [
    "# Lager fire variabler som skal brukes i fortellingen.\n",
    "\n",
    "wands = 4               # Int/heltall \n",
    "cost_wands = 19.99       # Float \n",
    "prophecy = True         # Bool\n",
    "eureka = \"EUREKA!!!\"    # String\n",
    "\n",
    "print(f\"Per og Pål dro på en butikk, der møtte de en mystisk trollmann som solgte {wands} tryllestaver. \\n\"\n",
    "     f\"En tryllestav kostet {cost_wands} kroner. Per og Pål var usikre om dem hadde råd til alle tryllestavene. \\n\"\n",
    "     f\"Derfor spurte de om trollmannen kunne telle hvor mange penger de hadde. Trollmannen telte myntene. \\n\"\n",
    "      f\"Til slutt ropte trollmannen {eureka}. Han fortalte at: The Prophecy is {prophecy}. \\n\"\n",
    "      f\"Per og Pål hadde akkurat {cost_wands*4} kroner i pengeboken. Dermed kjøpte de alle tryllestavene fra trollmannen.\"\n",
    "     )\n"
   ]
  },
  {
   "cell_type": "markdown",
   "id": "843a6ebc-9a7d-449a-848e-1776d8b3e2ab",
   "metadata": {},
   "source": [
    "### Oppgave 2 (10 poeng)"
   ]
  },
  {
   "cell_type": "markdown",
   "id": "65c0f196-e9c4-447f-be5a-7e08643fc38d",
   "metadata": {},
   "source": [
    "Leieprisene i landet har steget de siste månedene. Ved å bruke realistiske tall<br> \n",
    "a) Lag tilbuds og etterspørselsfunksjoner for leie av bolig (Bruk av ikke-lineære funksjoner belønnes). <br>\n",
    " <br> Definer funksjonene slik at det er mulig å finne en likevekt\n",
    "\n",
    "\n",
    "\n"
   ]
  },
  {
   "cell_type": "code",
   "execution_count": 3,
   "id": "699b1b59-1d99-43ae-a919-282373b21983",
   "metadata": {},
   "outputs": [],
   "source": [
    "# Definerer en funkskjon for tilbud. \n",
    "def supply(x):\n",
    "    return 2500*x\n",
    "# Så definerer vi en funksjon for etterspørsel.  \n",
    "def demand(x):\n",
    "    return 50000 - 2500*x"
   ]
  },
  {
   "cell_type": "markdown",
   "id": "8994d05c-3eff-428b-9cc3-c52817cba507",
   "metadata": {},
   "source": [
    "b) Vis at disse er henholdvis fallende og stigende, ved bruk av\n",
    "- Regning\n",
    "- figurativt (matplotlib) \n",
    "Husk å markere aksene tydelig og at funskjonene er definert slik at linjene krysser"
   ]
  },
  {
   "cell_type": "code",
   "execution_count": 19,
   "id": "8707e3ee-2227-4e0d-b3ba-a92ae302e028",
   "metadata": {
    "tags": []
   },
   "outputs": [
    {
     "name": "stdout",
     "output_type": "stream",
     "text": [
      "Ser at tilbusfunksjonen er økende.\n",
      "Setter inn for 1:\n",
      "2500\n",
      "Setter inn for 2:\n",
      "5000\n",
      "Ser at etterspørselen er fallende\n",
      "Setter inn for 1\n",
      "47500\n",
      "Setter inn for 2\n",
      "45000\n"
     ]
    }
   ],
   "source": [
    "print(\"Ser at tilbusfunksjonen er økende.\")\n",
    "print(f\"Setter inn for 1:\")\n",
    "print(supply(1))\n",
    "print(f\"Setter inn for 2:\")\n",
    "print(supply(2))\n",
    "print(\"Ser at etterspørselen er fallende\")\n",
    "print(\"Setter inn for 1\")\n",
    "print(demand(1))\n",
    "print(\"Setter inn for 2\")\n",
    "print(demand(2))"
   ]
  },
  {
   "cell_type": "code",
   "execution_count": 5,
   "id": "eaebbc65-952c-44ed-91be-c97c294dcd5a",
   "metadata": {},
   "outputs": [
    {
     "data": {
      "text/plain": [
       "<matplotlib.collections.PathCollection at 0x7f3b128c2e20>"
      ]
     },
     "execution_count": 5,
     "metadata": {},
     "output_type": "execute_result"
    },
    {
     "data": {
      "image/png": "[encoded data removed]",
      "text/plain": [
       "<Figure size 432x288 with 1 Axes>"
      ]
     },
     "metadata": {
      "needs_background": "light"
     },
     "output_type": "display_data"
    }
   ],
   "source": [
    "import numpy as np\n",
    "from matplotlib import pyplot as plt # Importerer pakker.  \n",
    "x = np.linspace(5,20) # Definerer x - aksen. \n",
    "plt.plot(x,supply(x), label=\"Tilbud\") # Tilbud \n",
    "plt.plot(x,demand(x),label=\"Etterspørsel\") # Ettersørsel \n",
    "plt.legend(loc=\"lower right\") # Legend og labels. \n",
    "plt.ylabel('Pris')\n",
    "plt.xlabel(\"Leiligheter\")\n",
    "plt.scatter(10,25000) # Markerer likevektspunkt. "
   ]
  },
  {
   "cell_type": "markdown",
   "id": "8a528c27-c3d6-469f-824f-f89e217d1194",
   "metadata": {},
   "source": [
    "c) Kommenter funksjonene og likevekten. Vis gjerne figurativt hvor likevekten er ved bruk av scatter"
   ]
  },
  {
   "cell_type": "code",
   "execution_count": 6,
   "id": "a1860645-9814-41aa-944e-4e28be9da46d",
   "metadata": {
    "tags": []
   },
   "outputs": [
    {
     "name": "stdout",
     "output_type": "stream",
     "text": [
      "Likevekt er ved 25000 leiligheter.\n",
      "Det er det punktet hvor tilbudet møter etterspørselen\n"
     ]
    }
   ],
   "source": [
    "# Tilbudet øker ved kvantum av leiligher, og etterspørselen synker.\n",
    "# Har markert likevekt i figuren ved bruk av scatter, her møtes etterspørsel og tilbud. \n",
    "\n",
    "# Printer ut. \n",
    "print(f\"Likevekt er ved 25000 leiligheter.\") \n",
    "print(f\"Det er det punktet hvor tilbudet møter etterspørselen\") "
   ]
  },
  {
   "cell_type": "markdown",
   "id": "dc7ec86f-9b5e-4e32-8ade-d95cfeb93d29",
   "metadata": {},
   "source": [
    "### Oppgave 3 (15 poeng)"
   ]
  },
  {
   "cell_type": "markdown",
   "id": "ffd4601d-7863-4b7d-a3ca-56153fb5143f",
   "metadata": {},
   "source": [
    "SSB har omfattende data på befolkningsutvikling (https://www.ssb.no/statbank/table/05803/tableViewLayout1/). Disse dataene skal du bruke i de neste deloppgavene.\n",
    "\n",
    "a) lag lister av følgende variabler: \"Befolkning 1. januar\", \"Døde i alt\", \"Innflyttinger\" og \"Utflyttinger\". Velg selv variabelnavn når du definerer dem i python. Første element i hver liste skal være variabelnavnet. Bruk tall for perioden 2012-2021. Lag så en liste av disse listene. Du kan kalle den \"ssb\". \n",
    "<br><br>\n",
    "<b>Hint:</b> når du skal velge variabler på SSB sin nettside må du holde inne ctrl for å velge flere variabler.\n"
   ]
  },
  {
   "cell_type": "code",
   "execution_count": 7,
   "id": "89588a39-4307-4a7f-ba4e-91ac7a8a8b66",
   "metadata": {},
   "outputs": [
    {
     "name": "stdout",
     "output_type": "stream",
     "text": [
      "[['årstall', 2012, 2013, 2014, 2015, 2016, 2017, 2018, 2019, 2020, 2021], ['befolkning', 4985870, 5051275, 5109056, 5165802, 5213985, 5258317, 5295619, 5328212, 5367580, 5391369], ['døde', 41992, 41282, 40394, 40727, 40726, 40774, 40840, 40684, 40611, 42002], ['innflyttning', 78570, 75789, 70030, 67276, 66800, 58192, 52485, 52153, 38071, 53947], ['utflyttning', 31227, 35716, 31875, 37474, 40724, 36843, 34382, 26826, 26744, 34297]]\n"
     ]
    }
   ],
   "source": [
    "import numpy as np\n",
    "import pandas as pd\n",
    "\n",
    "# Lager lister med variabelene i perioden 2012 - 2021. \n",
    "\n",
    "årstall = [\"årstall\", 2012, 2013, 2014, 2015, 2016, 2017, 2018, 2019, 2020, 2021]\n",
    "befolkning = [\"befolkning\", 4985870, 5051275, 5109056, 5165802, 5213985, 5258317, 5295619, 5328212, 5367580, 5391369]\n",
    "døde = [\"døde\", 41992, 41282, 40394, 40727, 40726, 40774, 40840, 40684, 40611, 42002]\n",
    "innflyttning =[\"innflyttning\", 78570, 75789, 70030, 67276, 66800, 58192, 52485, 52153, 38071, 53947]\n",
    "utflyttning = [\"utflyttning\", 31227, 35716, 31875, 37474, 40724, 36843, 34382, 26826, 26744, 34297]\n",
    "               \n",
    "ssb = [årstall, befolkning, døde, innflyttning, utflyttning] # Legger listene sammen. \n",
    "\n",
    "print(ssb) # Printer ut listen. "
   ]
  },
  {
   "cell_type": "markdown",
   "id": "d73fb1db-1b16-41e8-afed-b88af54053cd",
   "metadata": {},
   "source": [
    "b) konverter \"ssb\" til en numpy matrise og gi den et nytt navn"
   ]
  },
  {
   "cell_type": "code",
   "execution_count": 8,
   "id": "2575453b-d523-49b8-98e7-6c2c6f31fc0b",
   "metadata": {},
   "outputs": [
    {
     "name": "stdout",
     "output_type": "stream",
     "text": [
      "[['årstall' '2012' '2013' '2014' '2015' '2016' '2017' '2018' '2019'\n",
      "  '2020' '2021']\n",
      " ['befolkning' '4985870' '5051275' '5109056' '5165802' '5213985'\n",
      "  '5258317' '5295619' '5328212' '5367580' '5391369']\n",
      " ['døde' '41992' '41282' '40394' '40727' '40726' '40774' '40840' '40684'\n",
      "  '40611' '42002']\n",
      " ['innflyttning' '78570' '75789' '70030' '67276' '66800' '58192' '52485'\n",
      "  '52153' '38071' '53947']\n",
      " ['utflyttning' '31227' '35716' '31875' '37474' '40724' '36843' '34382'\n",
      "  '26826' '26744' '34297']]\n"
     ]
    }
   ],
   "source": [
    "np_ssb = np.array(ssb) # Konverterer til array \n",
    "print(np_ssb) # Printer ut. "
   ]
  },
  {
   "cell_type": "markdown",
   "id": "7948aec6-fbe4-4076-b781-13f00d7892a0",
   "metadata": {},
   "source": [
    "c) Putt alle tallene inn i en egen matrise og konverter disse til int "
   ]
  },
  {
   "cell_type": "code",
   "execution_count": 9,
   "id": "a4adefaa-98e0-4e84-82c5-5099eced6d05",
   "metadata": {
    "tags": []
   },
   "outputs": [
    {
     "name": "stdout",
     "output_type": "stream",
     "text": [
      "[[   2012    2013    2014    2015    2016    2017    2018    2019    2020\n",
      "     2021]\n",
      " [4985870 5051275 5109056 5165802 5213985 5258317 5295619 5328212 5367580\n",
      "  5391369]\n",
      " [  41992   41282   40394   40727   40726   40774   40840   40684   40611\n",
      "    42002]\n",
      " [  78570   75789   70030   67276   66800   58192   52485   52153   38071\n",
      "    53947]\n",
      " [  31227   35716   31875   37474   40724   36843   34382   26826   26744\n",
      "    34297]]\n"
     ]
    }
   ],
   "source": [
    "# Fjerner første rad slik at vi bare får tall verdier.\n",
    "np_ssb2 = np_ssb[:,1:]\n",
    "\n",
    "# Gjør matrisen om til int. \n",
    "np_ssb_int = np_ssb2.astype(int)\n",
    "\n",
    "# Printer ut:\n",
    "print(np_ssb_int)"
   ]
  },
  {
   "cell_type": "markdown",
   "id": "5cdb7248-c041-430e-828f-33f8f5fe3ea4",
   "metadata": {},
   "source": [
    "d) vis befolkningsutviklingen grafisk for de gjeldene årene ved bruk av matplotlib, og mer spesifikt \"fig, ax = plt.subplots()\". Vis befolkning på y-aksen i millioner"
   ]
  },
  {
   "cell_type": "code",
   "execution_count": 10,
   "id": "1aea3ebd-e525-471b-97cc-292b3d06099a",
   "metadata": {},
   "outputs": [
    {
     "data": {
      "text/plain": [
       "Text(0.5, 0, 'Årstall')"
      ]
     },
     "execution_count": 10,
     "metadata": {},
     "output_type": "execute_result"
    },
    {
     "data": {
      "image/png": "[encoded data removed]",
      "text/plain": [
       "<Figure size 432x288 with 1 Axes>"
      ]
     },
     "metadata": {
      "needs_background": "light"
     },
     "output_type": "display_data"
    }
   ],
   "source": [
    "fig, ax = plt.subplots()  # Bruker subplots \n",
    "ax.plot(np_ssb_int[0,:],np_ssb_int[1,:]/1000000) # Bruker sliceing for å hente data. Og deler på 1 million. \n",
    "ax.set_title(\"Befolkningsvekst fra 2012 til 2021\") # Legger til tittel og labels:  \n",
    "ax.set_ylabel(\"Befolkningstall i millioner\")\n",
    "ax.set_xlabel(\"Årstall\")"
   ]
  },
  {
   "cell_type": "markdown",
   "id": "91bfe9de-26e4-41dd-b12f-66e5ba714e8a",
   "metadata": {},
   "source": [
    "e) Lag det samme plottet ved bruk av oppslag. Hva er fordelen med dette?"
   ]
  },
  {
   "cell_type": "code",
   "execution_count": 11,
   "id": "5596bd22-3ba8-4ead-8adb-2547e304f75c",
   "metadata": {
    "tags": []
   },
   "outputs": [
    {
     "data": {
      "text/plain": [
       "Text(0.5, 1.0, 'Befolkningsvekst fra 2012 til 2021')"
      ]
     },
     "execution_count": 11,
     "metadata": {},
     "output_type": "execute_result"
    },
    {
     "data": {
      "image/png": "[encoded data removed]",
      "text/plain": [
       "<Figure size 432x288 with 1 Axes>"
      ]
     },
     "metadata": {
      "needs_background": "light"
     },
     "output_type": "display_data"
    }
   ],
   "source": [
    "# Bruker slice til å lage oppslag. \n",
    "a=dict()\n",
    "a['årstall']=np_ssb_int[0,:] \n",
    "a['befolkning']=np_ssb_int[1,:]/1000000 # Deler på 1 million. \n",
    "a['døde']=np_ssb_int[2,:]\n",
    "a['innflytning']=np_ssb_int[3,:]\n",
    "a['utflyttning']=np_ssb_int[4,:]\n",
    "\n",
    "# Dette gjør koden lesbar og mer håndterlig. Man slipper å velge ut kolonner og kan ha de lagret som noe enkelt. \n",
    "\n",
    "fig, ax = plt.subplots()\n",
    "\n",
    "# Bruker nå oppslagene til å plotte figuren.\n",
    "ax.plot(a['årstall'],a['befolkning'])  \n",
    "ax.set_ylabel(\"Befolkningstall i millioner\")\n",
    "ax.set_xlabel(\"Årstall\")\n",
    "ax.set_title(\"Befolkningsvekst fra 2012 til 2021\")"
   ]
  },
  {
   "cell_type": "markdown",
   "id": "fece5749-eed4-4b5a-92dc-e66bceae14d2",
   "metadata": {},
   "source": [
    "f) Hva er den relative befolkningstilveksten utenom fødsler (dvs. innvandring/utvandring)? Definer en ny array og legg den til i oppslaget du laget i oppgaven tidligere. Kall den \"rel_immigration\". Plot denne sammen med grafen du laget i (d). "
   ]
  },
  {
   "cell_type": "code",
   "execution_count": 12,
   "id": "f511ba92-873e-4114-87db-0a8737c6c582",
   "metadata": {},
   "outputs": [
    {
     "data": {
      "text/plain": [
       "<matplotlib.legend.Legend at 0x7f3b08b5f7f0>"
      ]
     },
     "execution_count": 12,
     "metadata": {},
     "output_type": "execute_result"
    },
    {
     "data": {
      "image/png": "[encoded data removed]",
      "text/plain": [
       "<Figure size 432x288 with 1 Axes>"
      ]
     },
     "metadata": {
      "needs_background": "light"
     },
     "output_type": "display_data"
    }
   ],
   "source": [
    "rel_immigration = a['innflytning'] / a['utflyttning'] \n",
    "# Deler innvandring på utvandring og kaller den for rel_immigration. \n",
    "\n",
    "fig, ax = plt.subplots() \n",
    "ax.plot(a['årstall'],a['befolkning'], label = \"Befolkningsvekst\", color = \"green\") # Bruker oppslag. \n",
    "ax.plot(a['årstall'],rel_immigration, label = \"Relativ immigrasjon\")\n",
    "ax.set_ylabel(\"Befolkningsvekst i millioner\") # Gir aksene passende labels. \n",
    "ax.set_xlabel(\"Årstall\")\n",
    "ax.set_title(\"Befolkningsvekst med og uten innvandring\") # Gir figuren en passende titel og legend. \n",
    "ax.legend(loc = \"center left\") "
   ]
  },
  {
   "cell_type": "markdown",
   "id": "fc0370be-f664-417f-885d-97b0f6aa22d6",
   "metadata": {},
   "source": [
    "g) ekstrapoeng. Kan plotte de samme tallene (dvs \"rel_immigration\" og \"befolkning\" sammen med år) i to figurer ved siden av hverandre ved bruk av \"fig, (ax1, ax2) = plt.subplots(1, 2)\". Gi grafene ulik farge\n"
   ]
  },
  {
   "cell_type": "code",
   "execution_count": 13,
   "id": "8dc8457a-7144-4bdb-a4d2-9e2c7fb5cac1",
   "metadata": {},
   "outputs": [
    {
     "data": {
      "text/plain": [
       "Text(0.02, 0.5, 'Befolkning i millioner')"
      ]
     },
     "execution_count": 13,
     "metadata": {},
     "output_type": "execute_result"
    },
    {
     "data": {
      "image/png": "[encoded data removed]",
      "text/plain": [
       "<Figure size 432x288 with 2 Axes>"
      ]
     },
     "metadata": {
      "needs_background": "light"
     },
     "output_type": "display_data"
    }
   ],
   "source": [
    "fig, (ax1, ax2) = plt.subplots(2) # Bruker subplots. \n",
    "# fortsetter å bruke oppslag når vi skal plott figuren. \n",
    "ax1.plot(a['årstall'],a['befolkning'], label = 'Befolkning generelt', color = 'blue')  # Farge og labels. \n",
    "ax2.plot(a['årstall'],rel_immigration, label = 'Relativ immigrasjon', color = 'green')\n",
    "ax1.legend() # Lager legends. \n",
    "ax2.legend()\n",
    "fig.suptitle('Befolkningsvekst og relativ immigrasjon') # Lager en tittel og gir aksene passende navn. \n",
    "fig.supxlabel('Årstall')\n",
    "fig.supylabel('Befolkning i millioner')"
   ]
  },
  {
   "cell_type": "markdown",
   "id": "091a4c4b-0ab3-42b9-9576-de355e184baf",
   "metadata": {},
   "source": [
    "## Oppgave 4 (20 poeng)"
   ]
  },
  {
   "cell_type": "markdown",
   "id": "806a7eb9-8d04-4fb6-881d-9be4ef739401",
   "metadata": {},
   "source": [
    "Et lån består som regel av et månedlig terminbeløp. Dette beløpet er summen av avdrag (nedbetalingen på lånet) og renter. Vi antar månedlig forrenting i alle oppgavene. Dvs. at det er 12 terminer i hvert år.<br><br>\n",
    "a) Lag en funksjon som regner ut hvor mye lånet \"x\" koster deg i renteutgifter for \"t\" terminer med årlig rente \"r\" for et serielån. <br> <br>  Siden dette er et serielån, så vil avdragene være like hver måned men renteutgiftene reduseres i takt med avdragene. Renteutgiftene for en gitt termin \"t\" vil derfor være den årlige renten \"r\" (delt på antall forrentinger \"f\") på gjenværende beløp på det tidspunktet.   $renteutgifter_{t} = (x-a*t)*{r/f}$   <br>  <br> \n",
    "Siden vi er ute etter den totale kostnaden i svaret, må du summere renteutgiftene over alle terminer, det vil si $\\sum_{t=1}^N(x-a*t)*{r/f}$\n",
    "\n",
    "\n",
    "<br>\n",
    "<b>Hint:</b> siden terminbeløpet varierer for hver måned (pga at rentene endres), må alle enkeltperioder summeres. Det kan være nyttige å bruke funksjonen np.arange() til dette.\n"
   ]
  },
  {
   "cell_type": "code",
   "execution_count": 14,
   "id": "bc4e49f8-3534-45e3-8991-ec7d93cac329",
   "metadata": {
    "tags": []
   },
   "outputs": [],
   "source": [
    "# Skriver ned hva de ulike boksavene betyr slik at de er enklere og jobbe med. \n",
    "# x = lånet \n",
    "# t = terminer \n",
    "# r = rente\n",
    "# a = avdrag \n",
    "# f = forrentning \n",
    "\n",
    "# Funksjonen skal vise hvor mye lånet koster deg i renteutgifter etter antall terminer med årlig rente. \n",
    "# Bruker np.arrange funksjonen slik at jeg får renteutgiftene ut i en liste.\n",
    "\n",
    "def renteutgifter(x,a,t,r,f):\n",
    "    return (x-a*np.arange(t-1))*r/f"
   ]
  },
  {
   "cell_type": "markdown",
   "id": "b85feca9-8641-4d22-b821-157d30ce8223",
   "metadata": {
    "tags": []
   },
   "source": [
    "b) regn ut hvor mye lånet koster deg med henholdsvis 10, 20 og 30 års tilbakebetaling. Anta 1 000 000 kr lånebeløp med 3% rente"
   ]
  },
  {
   "cell_type": "code",
   "execution_count": 15,
   "id": "faee2087-766b-400d-917a-25e682d04bb3",
   "metadata": {
    "tags": []
   },
   "outputs": [
    {
     "name": "stdout",
     "output_type": "stream",
     "text": [
      "Bruker funksjonen for å finne antall terminer ved ulik nedbetalingsplan:\n",
      "120\n",
      "240\n",
      "360\n",
      "Bruker funksjon for avdrag til å finne avdragsbeløpene:\n",
      "8333.333333333334\n",
      "4166.666666666667\n",
      "2777.777777777778\n"
     ]
    }
   ],
   "source": [
    "forrentning = 12 # Vi vet at lånet skal forrentes hver måned. \n",
    "lånebeløp = 1000000 # Vi vet også lånebeløpet. \n",
    "\n",
    "# Siden lånet skal nedbetales i 10, 20 og 30 år er det ulike avdragsbeløp. Lager vi en funksjon til dettte:\n",
    "def avdrag(x,t):\n",
    "    return x/t\n",
    "\n",
    "# Definerer en funksjon for å finne antall terminer. \n",
    "def terminer(forrentning,år): \n",
    "    return år*forrentning\n",
    "\n",
    "# Bruker funksjonen for å finne antall terminer. \n",
    "print(f\"Bruker funksjonen for å finne antall terminer ved ulik nedbetalingsplan:\")\n",
    "print(terminer(forrentning,10)) \n",
    "# Gjør det samme med 20 og 30 års nedbetaling: \n",
    "print(terminer(forrentning,20))\n",
    "print(terminer(forrentning,30))\n",
    "\n",
    "\n",
    "# Bruker funksjonen til å finne avdragene. \n",
    "print(\"Bruker funksjon for avdrag til å finne avdragsbeløpene:\")\n",
    "print(avdrag(1000000,120)) # Avdrag 10 års nedbetaling\n",
    "print(avdrag(1000000,240)) # Avdrag 20 års nedbetaling\n",
    "print(avdrag(1000000,360)) # Avdrag 30 års nedbetaling"
   ]
  },
  {
   "cell_type": "code",
   "execution_count": 16,
   "id": "f8c352bb-10d0-4cd2-a3f7-59e430ffb43d",
   "metadata": {},
   "outputs": [
    {
     "name": "stdout",
     "output_type": "stream",
     "text": [
      "Et Lån med på 1 million med 3 % rente og 10 års nedbetaling koster totalt:\n",
      "151255.94999999998\n",
      "Et lån på 1 million med 3 % rente og 20 års nedbetaling koster totalt:\n",
      "301297.8\n",
      "Et lån på 1 million med 3 % rente og 30 års nedbetaling koster totalt:\n",
      "451375.64999999997\n"
     ]
    }
   ],
   "source": [
    "# Nå som vi vet avdrag og antall terminer setter vi inn i funksjonen for renteutgifter. \n",
    "utgifter10 = (renteutgifter(1000000,8333,121, 0.03,12)) # Legger inn i funksjonen med 10 år. \n",
    "print(f\"Et Lån med på 1 million med 3 % rente og 10 års nedbetaling koster totalt:\")\n",
    "print(sum(utgifter10)) # Summerer utgiftene \n",
    "\n",
    "utgifter20 = (renteutgifter(1000000,4166,241, 0.03,12)) # Legger inn i funksjonen med 20 år. \n",
    "print(f\"Et lån på 1 million med 3 % rente og 20 års nedbetaling koster totalt:\")\n",
    "print(sum(utgifter20)) # Summerer utgiftene. \n",
    "\n",
    "utgifter30 = (renteutgifter(1000000,2777,361, 0.03,12)) # Legger inn i funksjonen med 30 år. \n",
    "print(f\"Et lån på 1 million med 3 % rente og 30 års nedbetaling koster totalt:\")\n",
    "print(sum(utgifter30))  # Summerer utgiftene. "
   ]
  },
  {
   "cell_type": "markdown",
   "id": "0dde7e5b-e8e5-4575-9473-8d621cb7c870",
   "metadata": {},
   "source": [
    "c) Vis hva det samme lånet koster som annuitetslån, dvs differansen mellom alle terminbeløp og lånebeløp.<br> <br> Annuitetslån gir like terminbeløp hver måned, men renten utgjør en større del av dette beløpet i starten. Terminbeløpet for et annuitetslån er definert ved formelen:\n",
    "$T = x*\\frac{r/f} {(1-(1+(r/f))^{-t})}$, hvor x=lånebeløp, r = årlig rente, t = terminer, f= antall forrentinger\n",
    "\n",
    "\n",
    "\n"
   ]
  },
  {
   "cell_type": "code",
   "execution_count": 17,
   "id": "245729d6-a3bf-4696-abfa-9525b9ce9820",
   "metadata": {},
   "outputs": [
    {
     "name": "stdout",
     "output_type": "stream",
     "text": [
      "Anniutetslån med 10år/120terminer koster 9656.07446983913 per termin.\n",
      "Lånet koster totalt:\n",
      "158720\n",
      "Det vil si at et annuiteslån er dyrere enn et serielån ved 10 årsnedbetaling.\n"
     ]
    }
   ],
   "source": [
    "# Definerer funksjonen for annuitetslån \n",
    "def annuitetslån(x,r,f,t): \n",
    "    return x*((r/f)/(1-(1+(r/f))**(-t)))\n",
    "\n",
    "# Legger inn verdier for å finne terminbeløp ved 10 årsnedbetaling.  \n",
    "# Vi vet allerede antall terminer fra forrige oppgave.   \n",
    "print(f\"Anniutetslån med 10år/120terminer koster {annuitetslån(1000000,0.03,12,120)} per termin.\") \n",
    "# Finner terminbeløp og definerer dette: \n",
    "terminbeløp = 9656\n",
    "\n",
    "# Lager en funksjon for kostand av annuitetslånet: \n",
    "def kostnad_annuitetslån(terminbeløp,terminer,lånebeløp):\n",
    "    return (terminbeløp*terminer)-lånebeløp\n",
    "\n",
    "#Printer ut hva lånet koster totalt: \n",
    "print(\"Lånet koster totalt:\")\n",
    "print(kostnad_annuitetslån(terminbeløp,120,lånebeløp))\n",
    "print(\"Det vil si at et annuiteslån er dyrere enn et serielån ved 10 årsnedbetaling.\")"
   ]
  },
  {
   "cell_type": "markdown",
   "id": "64b32290-0ec7-41a1-b230-052fed8c5c0f",
   "metadata": {},
   "source": [
    "d) Vis hvordan utviklingen i rentekostnader og avdrag på terminer for serielån grafisk ved hjelp av stackplot funksjonen i matplotlib. Anta et bankinnskudd x = 1 000 000 kr, årlig rente r=3% og antall terminer t = 240 (det vil si 20 år). Siden vi må vise utviklingen per termin, husk at \"t\" også definerer hvilken måned vi er i. Dvs, hvis t=15, har det gått 1 år og 3 mnd med terminer. Se forøvrig relevante formler i oppgave (a) \n",
    "\n",
    "<br> \n",
    "\n",
    "<b>Hint1:</b> Siden avdragene er like for alle måneder, kan det være lurt å definere det månedlige avdraget som en liste og gange det med antall perioder. </br>\n",
    "<b>Hint2:</b> Siden vi er ute etter både rentekostnader og avdrag hver for seg, kan det være lurt å definere en funksjon for hver av dem. </br>\n"
   ]
  },
  {
   "cell_type": "code",
   "execution_count": 18,
   "id": "99651332-6550-4c92-ad78-34df073b9fab",
   "metadata": {},
   "outputs": [
    {
     "data": {
      "text/plain": [
       "[<matplotlib.collections.PolyCollection at 0x7f3b089c2610>,\n",
       " <matplotlib.collections.PolyCollection at 0x7f3b089c2a00>]"
      ]
     },
     "execution_count": 18,
     "metadata": {},
     "output_type": "execute_result"
    },
    {
     "data": {
      "image/png": "[encoded data removed]",
      "text/plain": [
       "<Figure size 432x288 with 1 Axes>"
      ]
     },
     "metadata": {
      "needs_background": "light"
     },
     "output_type": "display_data"
    }
   ],
   "source": [
    "from matplotlib import pyplot as plt \n",
    "\n",
    "# Vi har laget funksjoner for avdrag og antall terminer så vi kan legge svarende derfra rett inn:\n",
    "avdrag = [4166] * 240 # Liste med avdrag ganger det med antall terminer \n",
    "termin240 = list(range(0,240)) # Lager en liste for alle terminene. \n",
    "\n",
    "# Vi vet fra tidligere hva avdraget er og i hvor mange terminer lånet skal nedbetales. \n",
    "# Legger dette inn i funksjonen for serielån. \n",
    "renteutgifter2 = renteutgifter(1000000,4166,241, 0.03, 20) \n",
    "\n",
    "# Så kan vi plotte serielånet. \n",
    "plt.stackplot(termin240, avdrag, renteutgifter2) # Bruker stackplot til å illustrere. \n",
    "# Plottet illusterer et serielån, der avdragene er like mens renteutgiftene synker.\n",
    "# Et serielån dyrest i starten, da renteutgiftene er store. \n",
    "# Serielånet er billigere men mindre forutsigbart enn et annuitetslån. "
   ]
  }
 ],
 "metadata": {
  "kernelspec": {
   "display_name": "Python 3 (ipykernel)",
   "language": "python",
   "name": "python3"
  },
  "language_info": {
   "codemirror_mode": {
    "name": "ipython",
    "version": 3
   },
   "file_extension": ".py",
   "mimetype": "text/x-python",
   "name": "python",
   "nbconvert_exporter": "python",
   "pygments_lexer": "ipython3",
   "version": "3.9.13"
  }
 },
 "nbformat": 4,
 "nbformat_minor": 5
}
