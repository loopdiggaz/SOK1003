{
 "cells": [
  {
   "cell_type": "code",
   "execution_count": 47,
   "id": "de401c5f-60cc-47d6-97d5-4b21f497eb58",
   "metadata": {},
   "outputs": [],
   "source": [
    "# Gruppe 18\n",
    "# Gustav Gabrielsen, Nesta Ndungu, Johannes Pedersen "
   ]
  },
  {
   "cell_type": "markdown",
   "id": "f7183bc1-2284-4311-9273-743fa73e63a7",
   "metadata": {},
   "source": [
    "# Mappeoppgave 1\n",
    "## <u>Beskrivelse\n",
    "Les oppgaveteksten nøye. Se hvordan man leverer oppgaven <th><a href='https://uit-sok-1003-h22.github.io/semesteroppgave.html'>her</a> </th> og  <th><a href='https://uit-sok-1003-h22.github.io/github.html'>her</a>. Husk at den skal leveres både som jupyter-fil og som PDF. Kommenter kodene du skriver i alle oppgaver og vær nøye på å definere aksene mm i figurer. I noen av oppgavetekstene står det hint, men det betyr ikke at de ikke kan løses på andre måter\n",
    "\n",
    "##### For å hente denne filen til Jupyter gjør du slik:\n",
    "\n",
    "<ol>\n",
    "<li>Åpne et \"terminalvindu\"\n",
    "<li>Gå til hjemmeområdet ditt\n",
    "    \n",
    "    \n",
    "    [user@jupty02 ~]$ cd\n",
    "<li>Lag en ny mappe på ditt hjemmeområde ved å skrive inn i terminalvinduet \n",
    "\n",
    "    [user@jupty02 ~]$ mkdir SOK-1003-eksamen-2022-mappe1 \n",
    "\n",
    "<li>Gå så inn i den mappen du har laget ved å skrive\n",
    "\n",
    "    [user@jupty02 ~]$ cd SOK-1003-eksamen-2022-mappe1 \n",
    "<li> Last ned kursmateriellet ved å kopiere inn følgende kommando i kommandovinduet:\n",
    "\n",
    "    [user@jupty02 sok-1003]$ git clone https://github.com/uit-sok-1003-h22/mappe/\n",
    "</ol> \n",
    "<br> Oppgi gruppenavn m/ medlemmer på epost o.k.aars@uit.no innen 7/10, så blir dere satt opp til tidspunkt for presentasjon 19/10. \n",
    "<br>Bruk så denne filen til å gjøre besvarelsen din. Ved behov; legg til flere celler ved å trykke \"b\"\n",
    "</br>\n",
    "<hr>"
   ]
  },
  {
   "cell_type": "markdown",
   "id": "6578a453-0dfe-4f86-b2c4-0bbd934987c3",
   "metadata": {},
   "source": [
    "## <u> Oppgavene\n",
    "\n",
    "### Oppgave 1 (5 poeng)\n",
    "a) Lag en kort fortelling i en python kode som inkluderer alle de fire typer variabler vi har lært om i kurset. Koden skal kunne kjøres med print(). Koden burde inneholde utregninger av elementer du har definert\n"
   ]
  },
  {
   "cell_type": "code",
   "execution_count": 1,
   "id": "92c6740e-90f9-4a78-a331-5496fdc06b0e",
   "metadata": {},
   "outputs": [
    {
     "name": "stdout",
     "output_type": "stream",
     "text": [
      "Per og Pål dro på en butikk, der møtte dem en mystisk trollmann som solgte 4 tryllestaver. \n",
      "En tryllestav kostet nemlig 19.99 kroner. Per og Pål var usikre om dem hadde råd til alle sammen. \n",
      "Derfor spurte de om trollmannen kunne telle hvor mange penger dem har. Trollmannen telte og telte myntene. \n",
      "Til slutt ropte trollmannen EUREKA!!!. Han fortalte at: The Prophecy is True. \n",
      "Per og Pål hadde akkurat 79.96 kroner i pengeboken. Dermed kjøpte dem alle tryllestavene trollmannen hadde.\n"
     ]
    }
   ],
   "source": [
    "antall_tryllestaver = 4\n",
    "cost_tryllestav = 19.99\n",
    "profiteten=True\n",
    "eureka = \"EUREKA!!!\"\n",
    "\n",
    "print(f\"Per og Pål dro på en butikk, der møtte dem en mystisk trollmann som solgte {antall_tryllestaver} tryllestaver. \\n\"\n",
    "     f\"En tryllestav kostet nemlig {cost_tryllestav} kroner. Per og Pål var usikre om dem hadde råd til alle sammen. \\n\"\n",
    "     f\"Derfor spurte de om trollmannen kunne telle hvor mange penger dem har. Trollmannen telte og telte myntene. \\n\"\n",
    "      f\"Til slutt ropte trollmannen {eureka}. Han fortalte at: The Prophecy is {profiteten}. \\n\"\n",
    "      f\"Per og Pål hadde akkurat {cost_tryllestav*4} kroner i pengeboken. Dermed kjøpte dem alle tryllestavene trollmannen hadde.\"\n",
    "     )\n"
   ]
  },
  {
   "cell_type": "markdown",
   "id": "843a6ebc-9a7d-449a-848e-1776d8b3e2ab",
   "metadata": {},
   "source": [
    "### Oppgave 2 (10 poeng)"
   ]
  },
  {
   "cell_type": "markdown",
   "id": "65c0f196-e9c4-447f-be5a-7e08643fc38d",
   "metadata": {},
   "source": [
    "Leieprisene i landet har steget de siste månedene. Ved å bruke realistiske tall<br> \n",
    "a) Lag tilbuds og etterspørselsfunksjoner for leie av bolig (Bruk av ikke-lineære funksjoner belønnes). <br>\n",
    " <br> Definer funksjonene slik at det er mulig å finne en likevekt\n",
    "\n",
    "\n",
    "\n"
   ]
  },
  {
   "cell_type": "code",
   "execution_count": 4,
   "id": "699b1b59-1d99-43ae-a919-282373b21983",
   "metadata": {},
   "outputs": [],
   "source": [
    "# Gjennomsnittlig leiepris per kvm i året = 2500\n",
    "\n",
    "def tilbud(x):\n",
    "    return 2500 * x\n",
    "\n",
    "def etterspørsel(x):\n",
    "    return 50000 - 2500*x"
   ]
  },
  {
   "cell_type": "markdown",
   "id": "8994d05c-3eff-428b-9cc3-c52817cba507",
   "metadata": {},
   "source": [
    "b) Vis at disse er henholdvis fallende og stigende, ved bruk av\n",
    "- Regning\n",
    "- figurativt (matplotlib) \n",
    "Husk å markere aksene tydelig og at funskjonene er definert slik at linjene krysser"
   ]
  },
  {
   "cell_type": "code",
   "execution_count": 3,
   "id": "8707e3ee-2227-4e0d-b3ba-a92ae302e028",
   "metadata": {
    "tags": []
   },
   "outputs": [
    {
     "name": "stdout",
     "output_type": "stream",
     "text": [
      "2500\n",
      "5000\n",
      "47500\n",
      "45000\n"
     ]
    }
   ],
   "source": [
    "# Ved hjelp av regning:\n",
    "\n",
    "print(2500*1)\n",
    "print(2500*2)\n",
    "\n",
    "print(50000-2500*1)\n",
    "print(50000-2500*2)"
   ]
  },
  {
   "cell_type": "code",
   "execution_count": 6,
   "id": "eaebbc65-952c-44ed-91be-c97c294dcd5a",
   "metadata": {},
   "outputs": [
    {
     "data": {
      "text/plain": [
       "Text(0.5, 0, 'Antall kvm')"
      ]
     },
     "execution_count": 6,
     "metadata": {},
     "output_type": "execute_result"
    },
    {
     "data": {
      "image/png": "[encoded data removed]",
      "text/plain": [
       "<Figure size 432x288 with 1 Axes>"
      ]
     },
     "metadata": {
      "needs_background": "light"
     },
     "output_type": "display_data"
    }
   ],
   "source": [
    "import numpy as np\n",
    "from matplotlib import pyplot as plt\n",
    "\n",
    "x = np.linspace(5,20,15)\n",
    "plt.plot(x,tilbud(x), label=\"Tilbud\")\n",
    "plt.plot(x,etterspørsel(x),label=\"Etterspørsel\")\n",
    "plt.legend(loc=\"lower right\")\n",
    "plt.ylabel('Pris')\n",
    "plt.xlabel('Antall kvm')"
   ]
  },
  {
   "cell_type": "markdown",
   "id": "8a528c27-c3d6-469f-824f-f89e217d1194",
   "metadata": {},
   "source": [
    "c) Kommenter funksjonene og likevekten. Vis gjerne figurativt hvor likevekten er ved bruk av scatter"
   ]
  },
  {
   "cell_type": "code",
   "execution_count": 3,
   "id": "a1860645-9814-41aa-944e-4e28be9da46d",
   "metadata": {},
   "outputs": [
    {
     "name": "stdout",
     "output_type": "stream",
     "text": [
      "25000\n",
      "25000\n"
     ]
    }
   ],
   "source": [
    "print(2500*10)\n",
    "print(50000 - 2500*10)"
   ]
  },
  {
   "cell_type": "markdown",
   "id": "dc7ec86f-9b5e-4e32-8ade-d95cfeb93d29",
   "metadata": {},
   "source": [
    "### Oppgave 3 (15 poeng)"
   ]
  },
  {
   "cell_type": "markdown",
   "id": "ffd4601d-7863-4b7d-a3ca-56153fb5143f",
   "metadata": {},
   "source": [
    "SSB har omfattende data på befolkningsutvikling (https://www.ssb.no/statbank/table/05803/tableViewLayout1/). Disse dataene skal du bruke i de neste deloppgavene.\n",
    "\n",
    "a) lag lister av følgende variabler: \"Befolkning 1. januar\", \"Døde i alt\", \"Innflyttinger\" og \"Utflyttinger\". Velg selv variabelnavn når du definerer dem i python. Første element i hver liste skal være variabelnavnet. Bruk tall for perioden 2012-2021. Lag så en liste av disse listene. Du kan kalle den \"ssb\". \n",
    "<br><br>\n",
    "<b>Hint:</b> når du skal velge variabler på SSB sin nettside må du holde inne ctrl for å velge flere variabler.\n"
   ]
  },
  {
   "cell_type": "code",
   "execution_count": 16,
   "id": "89588a39-4307-4a7f-ba4e-91ac7a8a8b66",
   "metadata": {},
   "outputs": [
    {
     "name": "stdout",
     "output_type": "stream",
     "text": [
      "[['årstall', 2012, 2013, 2014, 2015, 2016, 2017, 2018, 2019, 2020, 2021], ['befolkning', 4985870, 5051275, 5109056, 5165802, 5213985, 5258317, 5295619, 5328212, 5367580, 5391369], ['døde', 41992, 41282, 40394, 40727, 40726, 40774, 40840, 40684, 40611, 42002], ['innflyttning', 78570, 75789, 70030, 67276, 66800, 58192, 52485, 52153, 38071, 53947], ['utflyttning', 31227, 35716, 31875, 37474, 40724, 36843, 34382, 26826, 26744, 34297]]\n"
     ]
    }
   ],
   "source": [
    "import numpy as np\n",
    "import pandas as pd\n",
    "\n",
    "årstall = [\"årstall\", 2012, 2013, 2014, 2015, 2016, 2017, 2018, 2019, 2020, 2021]\n",
    "befolkning = [\"befolkning\", 4985870, 5051275, 5109056, 5165802, 5213985, 5258317, 5295619, 5328212, 5367580, 5391369]\n",
    "døde = [\"døde\", 41992, 41282, 40394, 40727, 40726, 40774, 40840, 40684, 40611, 42002]\n",
    "innflyttning =[\"innflyttning\", 78570, 75789, 70030, 67276, 66800, 58192, 52485, 52153, 38071, 53947]\n",
    "utflyttning = [\"utflyttning\", 31227, 35716, 31875, 37474, 40724, 36843, 34382, 26826, 26744, 34297]\n",
    "               \n",
    "\n",
    "ssb = [årstall, befolkning, døde, innflyttning, utflyttning]\n",
    "\n",
    "print(ssb)"
   ]
  },
  {
   "cell_type": "markdown",
   "id": "d73fb1db-1b16-41e8-afed-b88af54053cd",
   "metadata": {},
   "source": [
    "b) konverter \"ssb\" til en numpy matrise og gi den et nytt navn"
   ]
  },
  {
   "cell_type": "code",
   "execution_count": 17,
   "id": "2575453b-d523-49b8-98e7-6c2c6f31fc0b",
   "metadata": {},
   "outputs": [
    {
     "name": "stdout",
     "output_type": "stream",
     "text": [
      "[['årstall' '2012' '2013' '2014' '2015' '2016' '2017' '2018' '2019'\n",
      "  '2020' '2021']\n",
      " ['befolkning' '4985870' '5051275' '5109056' '5165802' '5213985'\n",
      "  '5258317' '5295619' '5328212' '5367580' '5391369']\n",
      " ['døde' '41992' '41282' '40394' '40727' '40726' '40774' '40840' '40684'\n",
      "  '40611' '42002']\n",
      " ['innflyttning' '78570' '75789' '70030' '67276' '66800' '58192' '52485'\n",
      "  '52153' '38071' '53947']\n",
      " ['utflyttning' '31227' '35716' '31875' '37474' '40724' '36843' '34382'\n",
      "  '26826' '26744' '34297']]\n"
     ]
    }
   ],
   "source": [
    "np_ssb = np.array(ssb)\n",
    "print(np_ssb)"
   ]
  },
  {
   "cell_type": "markdown",
   "id": "7948aec6-fbe4-4076-b781-13f00d7892a0",
   "metadata": {},
   "source": [
    "c) Putt alle tallene inn i en egen matrise og konverter disse til int "
   ]
  },
  {
   "cell_type": "code",
   "execution_count": 32,
   "id": "a4adefaa-98e0-4e84-82c5-5099eced6d05",
   "metadata": {
    "tags": []
   },
   "outputs": [
    {
     "data": {
      "text/plain": [
       "array([[   2012,    2013,    2014,    2015,    2016,    2017,    2018,\n",
       "           2019,    2020,    2021],\n",
       "       [4985870, 5051275, 5109056, 5165802, 5213985, 5258317, 5295619,\n",
       "        5328212, 5367580, 5391369],\n",
       "       [  41992,   41282,   40394,   40727,   40726,   40774,   40840,\n",
       "          40684,   40611,   42002],\n",
       "       [  78570,   75789,   70030,   67276,   66800,   58192,   52485,\n",
       "          52153,   38071,   53947],\n",
       "       [  31227,   35716,   31875,   37474,   40724,   36843,   34382,\n",
       "          26826,   26744,   34297]])"
      ]
     },
     "execution_count": 32,
     "metadata": {},
     "output_type": "execute_result"
    }
   ],
   "source": [
    "int_ssb = [[2012, 2013, 2014, 2015, 2016, 2017, 2018, 2019, 2020, 2021], \n",
    "[4985870, 5051275, 5109056, 5165802, 5213985, 5258317, 5295619, 5328212, 5367580, 5391369], \n",
    "[41992, 41282, 40394, 40727, 40726, 40774, 40840, 40684, 40611, 42002], \n",
    "[78570, 75789, 70030, 67276, 66800, 58192, 52485, 52153, 38071, 53947], \n",
    "[31227, 35716, 31875, 37474, 40724, 36843, 34382, 26826, 26744, 34297]]\n",
    "\n",
    "ssb2 = np.array(int_ssb)\n",
    "ssb2\n"
   ]
  },
  {
   "cell_type": "markdown",
   "id": "5cdb7248-c041-430e-828f-33f8f5fe3ea4",
   "metadata": {},
   "source": [
    "d) vis befolkningsutviklingen grafisk for de gjeldene årene ved bruk av matplotlib, og mer spesifikt \"fig, ax = plt.subplots()\". Vis befolkning på y-aksen i millioner"
   ]
  },
  {
   "cell_type": "code",
   "execution_count": 20,
   "id": "1aea3ebd-e525-471b-97cc-292b3d06099a",
   "metadata": {},
   "outputs": [
    {
     "data": {
      "text/plain": [
       "Text(0.5, 0, 'Årstall')"
      ]
     },
     "execution_count": 20,
     "metadata": {},
     "output_type": "execute_result"
    },
    {
     "data": {
      "image/png": "[encoded data removed]",
      "text/plain": [
       "<Figure size 432x288 with 1 Axes>"
      ]
     },
     "metadata": {
      "needs_background": "light"
     },
     "output_type": "display_data"
    }
   ],
   "source": [
    "fig, ax = plt.subplots()\n",
    "ax.plot(ssb2[0,:],ssb2[1,:])\n",
    "ax.set_title(\"Befolkningsvekst fra 2012 til 2021\")\n",
    "ax.set_ylabel(\"Befolkning i millioner\")\n",
    "ax.set_xlabel(\"Årstall\")"
   ]
  },
  {
   "cell_type": "markdown",
   "id": "91bfe9de-26e4-41dd-b12f-66e5ba714e8a",
   "metadata": {},
   "source": [
    "e) Lag det samme plottet ved bruk av oppslag. Hva er fordelen med dette?"
   ]
  },
  {
   "cell_type": "code",
   "execution_count": 24,
   "id": "5596bd22-3ba8-4ead-8adb-2547e304f75c",
   "metadata": {
    "tags": []
   },
   "outputs": [
    {
     "data": {
      "text/plain": [
       "Text(0.5, 1.0, 'Befolkningsvekst fra 2012 til 2021')"
      ]
     },
     "execution_count": 24,
     "metadata": {},
     "output_type": "execute_result"
    },
    {
     "data": {
      "image/png": "[encoded data removed]",
      "text/plain": [
       "<Figure size 432x288 with 1 Axes>"
      ]
     },
     "metadata": {
      "needs_background": "light"
     },
     "output_type": "display_data"
    }
   ],
   "source": [
    "a=dict()\n",
    "a['årstall']=ssb2[0,:]\n",
    "a['befolkning']=ssb2[1,:]\n",
    "a['døde']=ssb2[2,:]\n",
    "a['innflytning']=ssb2[3,:]\n",
    "a['utflyttning']=ssb2[4,:]\n",
    "\n",
    "fig, ax = plt.subplots()\n",
    "ax.plot(a['årstall'],a['befolkning'])\n",
    "ax.set_ylabel(\"Befolkninger i millioner\")\n",
    "ax.set_xlabel(\"År\")\n",
    "ax.set_title(\"Befolkningsvekst fra 2012 til 2021\")\n",
    "\n",
    "# Dette gjør koden lesbar og mer håndterlig. Man slipper å velge ut kolonner og kan ha de lagret som noe enkelt. "
   ]
  },
  {
   "cell_type": "markdown",
   "id": "fece5749-eed4-4b5a-92dc-e66bceae14d2",
   "metadata": {},
   "source": [
    "f) Hva er den relative befolkningstilveksten utenom fødsler (dvs. innvandring/utvandring)? Definer en ny array og legg den til i oppslaget du laget i oppgaven tidligere. Kall den \"rel_immigration\". Plot denne sammen med grafen du laget i (d). "
   ]
  },
  {
   "cell_type": "code",
   "execution_count": 43,
   "id": "f511ba92-873e-4114-87db-0a8737c6c582",
   "metadata": {},
   "outputs": [
    {
     "data": {
      "text/plain": [
       "<matplotlib.legend.Legend at 0x7fdabcff7430>"
      ]
     },
     "execution_count": 43,
     "metadata": {},
     "output_type": "execute_result"
    },
    {
     "data": {
      "image/png": "[encoded data removed]",
      "text/plain": [
       "<Figure size 432x288 with 1 Axes>"
      ]
     },
     "metadata": {
      "needs_background": "light"
     },
     "output_type": "display_data"
    }
   ],
   "source": [
    "rel_immigration = a['befolkning'] + a['innflytning'] - a['utflyttning']\n",
    "rel_immigration \n",
    "\n",
    "fig, ax = plt.subplots()\n",
    "ax.plot(a['årstall'],a['befolkning'], label = \"befolkningstall generelt\", color = \"green\")\n",
    "ax.plot(a['årstall'],reel_befolkningsvekst, label = \"befolkningstall med inn/utvandring\")\n",
    "ax.set_ylabel(\"Befolkningsvekst i millioner\")\n",
    "ax.set_xlabel(\"Årstall\")\n",
    "ax.set_title(\"Befolkningsvekst med og uten innvandring\")\n",
    "ax.legend(loc = \"upper left\")"
   ]
  },
  {
   "cell_type": "markdown",
   "id": "fc0370be-f664-417f-885d-97b0f6aa22d6",
   "metadata": {},
   "source": [
    "g) ekstrapoeng. Kan plotte de samme tallene (dvs \"rel_immigration\" og \"befolkning\" sammen med år) i to figurer ved siden av hverandre ved bruk av \"fig, (ax1, ax2) = plt.subplots(1, 2)\". Gi grafene ulik farge\n"
   ]
  },
  {
   "cell_type": "code",
   "execution_count": 35,
   "id": "8dc8457a-7144-4bdb-a4d2-9e2c7fb5cac1",
   "metadata": {},
   "outputs": [
    {
     "data": {
      "text/plain": [
       "Text(0.02, 0.5, 'Befolkning i millioner')"
      ]
     },
     "execution_count": 35,
     "metadata": {},
     "output_type": "execute_result"
    },
    {
     "data": {
      "image/png": "[encoded data removed]",
      "text/plain": [
       "<Figure size 432x288 with 2 Axes>"
      ]
     },
     "metadata": {
      "needs_background": "light"
     },
     "output_type": "display_data"
    }
   ],
   "source": [
    "fig, (ax1, ax2) = plt.subplots(1,2)\n",
    "ax1.plot(a['årstall'],a['befolkning'], color = 'blue')\n",
    "ax2.plot(a['årstall'],reel_befolkningsvekst, color = 'green')\n",
    "fig.suptitle('Befolkningsvekst med og uten innvandring fra 2012 til 2021')\n",
    "fig.supxlabel('Årstall')\n",
    "fig.supylabel('Befolkning i millioner')"
   ]
  },
  {
   "cell_type": "markdown",
   "id": "091a4c4b-0ab3-42b9-9576-de355e184baf",
   "metadata": {},
   "source": [
    "## Oppgave 4 (20 poeng)"
   ]
  },
  {
   "cell_type": "markdown",
   "id": "806a7eb9-8d04-4fb6-881d-9be4ef739401",
   "metadata": {},
   "source": [
    "Et lån består som regel av et månedlig terminbeløp. Dette beløpet er summen av avdrag (nedbetalingen på lånet) og renter. Vi antar månedlig forrenting i alle oppgavene. Dvs. at det er 12 terminer i hvert år.<br><br>\n",
    "a) Lag en funksjon som regner ut hvor mye lånet \"x\" koster deg i renteutgifter for \"t\" terminer med årlig rente \"r\" for et serielån. <br> <br>  Siden dette er et serielån, så vil avdragene være like hver måned men renteutgiftene reduseres i takt med avdragene. Renteutgiftene for en gitt termin \"t\" vil derfor være den årlige renten \"r\" (delt på antall forrentinger \"f\") på gjenværende beløp på det tidspunktet.   $renteutgifter_{t} = (x-a*t)*{r/f}$   <br>  <br> \n",
    "Siden vi er ute etter den totale kostnaden i svaret, må du summere renteutgiftene over alle terminer, det vil si $\\sum_{t=1}^N(x-a*t)*{r/f}$\n",
    "\n",
    "\n",
    "<br>\n",
    "<b>Hint:</b> siden terminbeløpet varierer for hver måned (pga at rentene endres), må alle enkeltperioder summeres. Det kan være nyttige å bruke funksjonen np.arange() til dette.\n"
   ]
  },
  {
   "cell_type": "code",
   "execution_count": 6,
   "id": "bc4e49f8-3534-45e3-8991-ec7d93cac329",
   "metadata": {
    "tags": []
   },
   "outputs": [],
   "source": [
    "import numpy as np\n",
    "\n",
    "# x = lånet \n",
    "# t = terminer \n",
    "# r = rente\n",
    "# a = avdrag \n",
    "# f = forrentning \n",
    "\n",
    "# Funksjonen viser hvor mye lånet koster deg i renteutgifter etter antall terminer med årlig rente. \n",
    "\n",
    "def renteutgifter(x,a,t,r,f):\n",
    "    return (x-a*np.arange(t-1))*r/f"
   ]
  },
  {
   "cell_type": "code",
   "execution_count": 39,
   "id": "1b69d0c8-4bd9-4931-b41f-83e6c2e1c01c",
   "metadata": {},
   "outputs": [
    {
     "name": "stdout",
     "output_type": "stream",
     "text": [
      "[10000.  9000.  8000.  7000.  6000.  5000.  4000.  3000.  2000.  1000.\n",
      "     0.]\n"
     ]
    },
    {
     "data": {
      "text/plain": [
       "55000.0"
      ]
     },
     "execution_count": 39,
     "metadata": {},
     "output_type": "execute_result"
    }
   ],
   "source": [
    "# Siden vi er ute etter den totale kostnaden i svaret, må du summere renteutgiftene over alle terminene. \n",
    "# Lager et eksempel med et lånebeløp på 200000, avdrag på 20000, renter på 5 prosent og en forrentning hver måned i 1 år. \n",
    "\n",
    "utgifter = np.array(renteutgifter(200000,20000,12,0.05,1))\n",
    "print(utgifter)\n",
    "\n",
    "sum(utgifter)"
   ]
  },
  {
   "cell_type": "markdown",
   "id": "b85feca9-8641-4d22-b821-157d30ce8223",
   "metadata": {
    "tags": []
   },
   "source": [
    "b) regn ut hvor mye lånet koster deg med henholdsvis 10, 20 og 30 års tilbakebetaling. Anta 1 000 000 kr lånebeløp med 3% rente"
   ]
  },
  {
   "cell_type": "code",
   "execution_count": 40,
   "id": "faee2087-766b-400d-917a-25e682d04bb3",
   "metadata": {},
   "outputs": [
    {
     "name": "stdout",
     "output_type": "stream",
     "text": [
      "8333.333333333334\n"
     ]
    },
    {
     "data": {
      "text/plain": [
       "array([3000.   , 2975.001, 2950.002, 2925.003, 2900.004, 2875.005,\n",
       "       2850.006, 2825.007, 2800.008, 2775.009, 2750.01 , 2725.011,\n",
       "       2700.012, 2675.013, 2650.014, 2625.015, 2600.016, 2575.017,\n",
       "       2550.018, 2525.019, 2500.02 , 2475.021, 2450.022, 2425.023,\n",
       "       2400.024, 2375.025, 2350.026, 2325.027, 2300.028, 2275.029,\n",
       "       2250.03 , 2225.031, 2200.032, 2175.033, 2150.034, 2125.035,\n",
       "       2100.036, 2075.037, 2050.038, 2025.039, 2000.04 , 1975.041,\n",
       "       1950.042, 1925.043, 1900.044, 1875.045, 1850.046, 1825.047,\n",
       "       1800.048, 1775.049, 1750.05 , 1725.051, 1700.052, 1675.053,\n",
       "       1650.054, 1625.055, 1600.056, 1575.057, 1550.058, 1525.059,\n",
       "       1500.06 , 1475.061, 1450.062, 1425.063, 1400.064, 1375.065,\n",
       "       1350.066, 1325.067, 1300.068, 1275.069, 1250.07 , 1225.071,\n",
       "       1200.072, 1175.073, 1150.074, 1125.075, 1100.076, 1075.077,\n",
       "       1050.078, 1025.079, 1000.08 ,  975.081,  950.082,  925.083,\n",
       "        900.084,  875.085,  850.086,  825.087,  800.088,  775.089,\n",
       "        750.09 ,  725.091,  700.092,  675.093,  650.094,  625.095,\n",
       "        600.096,  575.097,  550.098,  525.099,  500.1  ,  475.101,\n",
       "        450.102,  425.103,  400.104,  375.105,  350.106,  325.107,\n",
       "        300.108,  275.109,  250.11 ,  225.111,  200.112,  175.113,\n",
       "        150.114,  125.115,  100.116,   75.117,   50.118,   25.119])"
      ]
     },
     "execution_count": 40,
     "metadata": {},
     "output_type": "execute_result"
    }
   ],
   "source": [
    "# Siden lånet skal nedbetales med  10, 20 og 30 år må vi finne et avdrag som får dette gjort.\n",
    "\n",
    "print(1000000/120)\n",
    "\n",
    "# Over deler vi på 120 terminer som er det samme som 10 år. Vi finner at avdraget må være på 8333. \n",
    "\n",
    "renteutgifter(1000000,8333,121, 0.03,10)"
   ]
  },
  {
   "cell_type": "code",
   "execution_count": 39,
   "id": "f8c352bb-10d0-4cd2-a3f7-59e430ffb43d",
   "metadata": {},
   "outputs": [
    {
     "name": "stdout",
     "output_type": "stream",
     "text": [
      "181507.13999999998\n",
      "180778.68\n",
      "180550.26\n"
     ]
    }
   ],
   "source": [
    "utgifter10 = np.array(renteutgifter(1000000,8333,121, 0.03,10))\n",
    "print(sum(utgifter10))\n",
    "utgifter20 = np.array(renteutgifter(1000000,4166,241, 0.03,20))\n",
    "print(sum(utgifter20))\n",
    "utgifter30 = np.array(renteutgifter(1000000,2777,361, 0.03,30))\n",
    "print(sum(utgifter30))\n"
   ]
  },
  {
   "cell_type": "markdown",
   "id": "0dde7e5b-e8e5-4575-9473-8d621cb7c870",
   "metadata": {},
   "source": [
    "c) Vis hva det samme lånet koster som annuitetslån, dvs differansen mellom alle terminbeløp og lånebeløp.<br> <br> Annuitetslån gir like terminbeløp hver måned, men renten utgjør en større del av dette beløpet i starten. Terminbeløpet for et annuitetslån er definert ved formelen:\n",
    "$T = x*\\frac{r/f} {(1-(1+(r/f))^{-t})}$, hvor x=lånebeløp, r = årlig rente, t = terminer, f= antall forrentinger\n",
    "\n",
    "\n",
    "\n"
   ]
  },
  {
   "cell_type": "code",
   "execution_count": 44,
   "id": "245729d6-a3bf-4696-abfa-9525b9ce9820",
   "metadata": {},
   "outputs": [
    {
     "name": "stdout",
     "output_type": "stream",
     "text": [
      "9935.499427302084\n",
      "192200\n"
     ]
    }
   ],
   "source": [
    "def annuitetslån(x,r,f,t): \n",
    "    return x*(r/f)/(1-(1+(r/f))**-t)\n",
    "\n",
    "print(annuitetslån(1000000,0.03,10,120)) \n",
    "\n",
    "\n",
    "terminbeløp = 9935\n",
    "terminer = 120 \n",
    "lånebeløp = 1000000\n",
    "\n",
    "kostnad = terminbeløp * terminer - lånebeløp\n",
    "print(kostnad)"
   ]
  },
  {
   "cell_type": "markdown",
   "id": "64b32290-0ec7-41a1-b230-052fed8c5c0f",
   "metadata": {},
   "source": [
    "d) Vis hvordan utviklingen i rentekostnader og avdrag på terminer for serielån grafisk ved hjelp av stackplot funksjonen i matplotlib. Anta et bankinnskudd x = 1 000 000 kr, årlig rente r=3% og antall terminer t = 240 (det vil si 20 år). Siden vi må vise utviklingen per termin, husk at \"t\" også definerer hvilken måned vi er i. Dvs, hvis t=15, har det gått 1 år og 3 mnd med terminer. Se forøvrig relevante formler i oppgave (a) \n",
    "\n",
    "<br> \n",
    "\n",
    "<b>Hint1:</b> Siden avdragene er like for alle måneder, kan det være lurt å definere det månedlige avdraget som en liste og gange det med antall perioder. </br>\n",
    "<b>Hint2:</b> Siden vi er ute etter både rentekostnader og avdrag hver for seg, kan det være lurt å definere en funksjon for hver av dem. </br>\n"
   ]
  },
  {
   "cell_type": "code",
   "execution_count": 14,
   "id": "99651332-6550-4c92-ad78-34df073b9fab",
   "metadata": {},
   "outputs": [
    {
     "data": {
      "text/plain": [
       "[<matplotlib.collections.PolyCollection at 0x7fdabeb39940>,\n",
       " <matplotlib.collections.PolyCollection at 0x7fdabeb39d30>]"
      ]
     },
     "execution_count": 14,
     "metadata": {},
     "output_type": "execute_result"
    },
    {
     "data": {
      "image/png": "[encoded data removed]",
      "text/plain": [
       "<Figure size 432x288 with 1 Axes>"
      ]
     },
     "metadata": {
      "needs_background": "light"
     },
     "output_type": "display_data"
    }
   ],
   "source": [
    "avdrag = [4166] * 240\n",
    "from matplotlib import pyplot as plt \n",
    "termin120 = list(range(0,240))\n",
    "\n",
    "renteutgifter2 = renteutgifter(1000000,4166,241, 0.03, 20)\n",
    "\n",
    "plt.stackplot(termin120, avdrag, renteutgifter2)\n"
   ]
  }
 ],
 "metadata": {
  "kernelspec": {
   "display_name": "Python 3 (ipykernel)",
   "language": "python",
   "name": "python3"
  },
  "language_info": {
   "codemirror_mode": {
    "name": "ipython",
    "version": 3
   },
   "file_extension": ".py",
   "mimetype": "text/x-python",
   "name": "python",
   "nbconvert_exporter": "python",
   "pygments_lexer": "ipython3",
   "version": "3.9.13"
  }
 },
 "nbformat": 4,
 "nbformat_minor": 5
}
